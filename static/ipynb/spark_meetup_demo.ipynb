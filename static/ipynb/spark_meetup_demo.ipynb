{
 "cells": [
  {
   "cell_type": "code",
   "execution_count": null,
   "metadata": {
    "collapsed": true
   },
   "outputs": [],
   "source": [
    "import sys, os, json, numpy as np, requests"
   ]
  },
  {
   "cell_type": "code",
   "execution_count": null,
   "metadata": {},
   "outputs": [],
   "source": [
    "!pip install clipper_admin"
   ]
  },
  {
   "cell_type": "code",
   "execution_count": null,
   "metadata": {
    "collapsed": true
   },
   "outputs": [],
   "source": [
    "from clipper_admin import Clipper"
   ]
  },
  {
   "cell_type": "code",
   "execution_count": null,
   "metadata": {},
   "outputs": [],
   "source": [
    "clipper_client  = Clipper(\"localhost\")"
   ]
  },
  {
   "cell_type": "code",
   "execution_count": null,
   "metadata": {},
   "outputs": [],
   "source": [
    "clipper_client.start()"
   ]
  },
  {
   "cell_type": "code",
   "execution_count": null,
   "metadata": {},
   "outputs": [],
   "source": [
    "clipper_client.get_all_apps()"
   ]
  },
  {
   "cell_type": "code",
   "execution_count": null,
   "metadata": {},
   "outputs": [],
   "source": [
    "# An application in Clipper corresponds to a REST prediction endpoint\n",
    "clipper_client.register_application(\n",
    "    \"digits\",\n",
    "    \"pyspark_svm\", \"ints\", \"-1.0\", 100000)"
   ]
  },
  {
   "cell_type": "code",
   "execution_count": null,
   "metadata": {},
   "outputs": [],
   "source": [
    "# Send a test prediction\n",
    "headers = {\"Content-type\": \"application/json\"}\n",
    "requests.post(\n",
    "    \"http://localhost:1337/digits/predict\",\n",
    "    headers=headers,\n",
    "    data=json.dumps({\"input\": [np.random.randint(255) for _ in range(784)]})).json()"
   ]
  },
  {
   "cell_type": "markdown",
   "metadata": {},
   "source": [
    "# Train an SVM with PySpark\n",
    "\n",
    "> Note that this code uses the `findspark` package to import Spark. You can install it with `pip install findspark`."
   ]
  },
  {
   "cell_type": "code",
   "execution_count": null,
   "metadata": {
    "collapsed": true
   },
   "outputs": [],
   "source": [
    "import findspark\n",
    "findspark.init()\n",
    "from pyspark.mllib.classification import LogisticRegressionWithLBFGS\n",
    "from pyspark.mllib.regression import LabeledPoint\n",
    "from pyspark.sql import SparkSession"
   ]
  },
  {
   "cell_type": "code",
   "execution_count": null,
   "metadata": {},
   "outputs": [],
   "source": [
    "spark = SparkSession\\\n",
    "        .builder\\\n",
    "        .appName(\"clipper-pyspark\")\\\n",
    "        .getOrCreate()\n",
    "sc = spark.sparkContext\n",
    "\n"
   ]
  },
  {
   "cell_type": "code",
   "execution_count": null,
   "metadata": {
    "collapsed": true
   },
   "outputs": [],
   "source": [
    "def normalize(x):\n",
    "    x = x.astype(np.double)\n",
    "    mu = np.mean(x)\n",
    "    sigma = np.var(x)\n",
    "    if sigma > 0:\n",
    "        return (x - mu) / np.sqrt(sigma)\n",
    "    else:\n",
    "        return 1\n",
    "\n",
    "def obj(y):\n",
    "    if y == 3:\n",
    "        return 0\n",
    "    else:\n",
    "        return 1\n",
    "\n",
    "def parse(line):\n",
    "    fields = line.strip().split(',')\n",
    "    return LabeledPoint(obj(int(fields[0])), normalize(np.array(fields[1:])))\n",
    "\n",
    "train_path = \"/Users/crankshaw/model-serving/data/mnist_data/train.data\"\n",
    "trainRDD = sc.textFile(train_path).map(\n",
    "    lambda line: parse(line)).cache()"
   ]
  },
  {
   "cell_type": "code",
   "execution_count": null,
   "metadata": {
    "scrolled": false
   },
   "outputs": [],
   "source": [
    "model = LogisticRegressionWithLBFGS.train(trainRDD)"
   ]
  },
  {
   "cell_type": "code",
   "execution_count": null,
   "metadata": {
    "collapsed": true
   },
   "outputs": [],
   "source": [
    "def simple_predict(spark, model, xs):\n",
    "    return [str(model.predict(normalize(x))) for x in xs]"
   ]
  },
  {
   "cell_type": "code",
   "execution_count": null,
   "metadata": {},
   "outputs": [],
   "source": [
    "test_point = np.array([np.random.randint(255) for _ in range(784)])\n",
    "simple_predict(spark, model, [test_point])"
   ]
  },
  {
   "cell_type": "code",
   "execution_count": null,
   "metadata": {},
   "outputs": [],
   "source": [
    "clipper_client.deploy_pyspark_model(\"pyspark_svm\", 1, simple_predict, model, sc, \"ints\")"
   ]
  },
  {
   "cell_type": "code",
   "execution_count": null,
   "metadata": {},
   "outputs": [],
   "source": [
    "requests.post(\n",
    "    \"http://localhost:1337/digits/predict\",\n",
    "    headers=headers,\n",
    "    data=json.dumps({\"input\": [np.random.randint(255) for _ in range(784)]})).json()"
   ]
  }
 ],
 "metadata": {
  "kernelspec": {
   "display_name": "Python 2",
   "language": "python",
   "name": "python2"
  },
  "language_info": {
   "codemirror_mode": {
    "name": "ipython",
    "version": 2
   },
   "file_extension": ".py",
   "mimetype": "text/x-python",
   "name": "python",
   "nbconvert_exporter": "python",
   "pygments_lexer": "ipython2",
   "version": "2.7.13"
  }
 },
 "nbformat": 4,
 "nbformat_minor": 2
}
